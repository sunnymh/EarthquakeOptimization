{
 "metadata": {
  "name": "quake"
 },
 "nbformat": 3,
 "nbformat_minor": 0,
 "worksheets": [
  {
   "cells": [
    {
     "cell_type": "code",
     "collapsed": false,
     "input": [
      "from pandas import *\n",
      "from scipy.optimize import fmin_slsqp\n",
      "from numpy import array"
     ],
     "language": "python",
     "metadata": {},
     "outputs": [],
     "prompt_number": 1
    },
    {
     "cell_type": "code",
     "collapsed": false,
     "input": [
      "# Setting the constants\n",
      "MIN_MAGNITUDE = 3"
     ],
     "language": "python",
     "metadata": {},
     "outputs": [],
     "prompt_number": 2
    },
    {
     "cell_type": "code",
     "collapsed": false,
     "input": [
      "# Getting the data\n",
      "data = read_csv('DataFrame.csv')\n",
      "data = data[data.magnitude > MIN_MAGNITUDE]\n",
      "magnitude = np.array(data.magnitude)\n",
      "time = np.array(data.time)\n",
      "time_duration = time[-1] - time[1]"
     ],
     "language": "python",
     "metadata": {},
     "outputs": [],
     "prompt_number": 3
    },
    {
     "cell_type": "code",
     "collapsed": false,
     "input": [
      "# Implement later\n",
      "# Function to get the window_size given alarm length for each given bin.\n",
      "# bins: vector of magnitudes\n",
      "# alarm_length: the alarm length for magnitude < bins[0], bins[0] < magnitude < bins[1], ..., magnitude > bins[0] \n",
      "# magnitude: a pandas data frame of magnitude\n",
      "def get_window_size(alarm_length, bins, magnitude):\n",
      "    window_size = np.zeros(len(magnitude))\n",
      "    window_size[(magnitude > 3) & (magnitude <=4)] = alarm_length[0]\n",
      "    window_size[(magnitude > 4) & (magnitude <=5)] = alarm_length[1]\n",
      "    window_size[(magnitude > 5) & (magnitude <=6)] = alarm_length[2]\n",
      "    window_size[(magnitude > 6) & (magnitude <=7)] = alarm_length[3]\n",
      "    window_size[(magnitude > 7) & (magnitude <=8)] = alarm_length[4]\n",
      "    window_size[(magnitude > 8) & (magnitude <=9)] = alarm_length[5]\n",
      "    window_size[magnitude > 9] = alarm_length[6]\n",
      "    return window_size"
     ],
     "language": "python",
     "metadata": {},
     "outputs": [],
     "prompt_number": 4
    },
    {
     "cell_type": "code",
     "collapsed": false,
     "input": [
      "# Function to get the error rate for given alarm_length, bins, magnitude, and time.\n",
      "# bins will be implemented later\n",
      "def get_error_rate(alarm_length, bins = np.array([3]), magnitude = magnitude, time = time):\n",
      "    window_size = get_window_size(alarm_length, bins, magnitude)\n",
      "    \n",
      "    # Get information about the input\n",
      "    size = len(time)\n",
      "    right_alarm = time + window_size\n",
      "    right_alarm[right_alarm>max(time)] = max(time) # time won't go beyond the last earthquake\n",
      "    \n",
      "    # Initialize variables\n",
      "    right_max_so_far = 0\n",
      "    predicted = np.zeros(size)\n",
      "\n",
      "    # Get actual alarms for each earthquake\n",
      "    for i in range(0, size):\n",
      "        # Case two earthquakes occurs at the same time (not likely)\n",
      "        if ((i != 0) and (time[i] == time[i-1])):\n",
      "            if (right_alarm[i] > right_max_so_far):\n",
      "                right_max_so_far = right_alarm[i]\n",
      "            predicted[i] = predicted[i-1]\n",
      "        # Case the earthquake is not predicted  \n",
      "        elif (time[i] > right_max_so_far):\n",
      "            right_max_so_far = right_alarm[i]\n",
      "        # Case the earthquake is predicted and its alarm is longer than the existing one\n",
      "        elif (right_alarm[i] > right_max_so_far):\n",
      "            right_max_so_far = right_alarm[i]\n",
      "            predicted[i] = True\n",
      "        # Case the earthquake is predicted and its alarm is shorter than the existing one\n",
      "        else:\n",
      "            predicted[i] = True\n",
      "    return 1 - float(sum(predicted)) / size"
     ],
     "language": "python",
     "metadata": {},
     "outputs": [],
     "prompt_number": 5
    },
    {
     "cell_type": "code",
     "collapsed": false,
     "input": [
      "# Function to get the error rate for given alarm_length, bins, magnitude, and time.\n",
      "# bins will be implemented later\n",
      "# Actually returns upper_bound - tau, since the optimization function checks upper_bound - tau >= 0\n",
      "def get_tau(alarm_length, bins = np.array([3]), magnitude = magnitude, time = time, upper_bound = 0.3):\n",
      "    window_size = get_window_size(alarm_length, bins, magnitude)\n",
      "\t\n",
      "    # Get information about the input\n",
      "    size = len(time)\n",
      "    right_alarm = time + window_size\n",
      "    right_alarm[right_alarm>max(time)] = max(time) # time won't go beyond the last earthquake\n",
      "\t\n",
      "    # Initialize variables\n",
      "    right_max_so_far = 0\n",
      "    actual_left = np.zeros(size)\n",
      "    actual_right = np.zeros(size)\n",
      "\n",
      "    # Get actual alarms for each earthquake\n",
      "    for i in range(0, size):\n",
      "        # Case two earthquakes occurs at the same time (not likely)\n",
      "        if ((i != 0) and (time[i] == time[i-1])):\n",
      "            if (right_alarm[i] > right_max_so_far):\n",
      "                actual_left[i] = right_max_so_far\n",
      "                actual_right[i] = right_max_so_far = right_alarm[i]\n",
      "        # Case the earthquake is not predicted\n",
      "        elif (time[i] > right_max_so_far):\n",
      "            actual_left[i] = time[i]\n",
      "            actual_right[i] = right_max_so_far = right_alarm[i]\n",
      "        # Case the earthquake is predicted and its alarm is longer than the existing one\n",
      "        elif (right_alarm[i] > right_max_so_far):\n",
      "            actual_left[i] = right_max_so_far\n",
      "            actual_right[i] = right_max_so_far = right_alarm[i]\n",
      "    return upper_bound - float((sum(actual_right) - sum(actual_left)))/(max(time) - min(time))"
     ],
     "language": "python",
     "metadata": {},
     "outputs": [],
     "prompt_number": 6
    },
    {
     "cell_type": "code",
     "collapsed": false,
     "input": [
      "result = fmin_slsqp(get_error_rate,\n",
      "                    np.array([1, 2, 3, 4, 5, 6, 7]), \n",
      "                    ieqcons= array([get_tau,]), \n",
      "                    bounds = [(0, time_duration),\n",
      "                              (0, time_duration), \n",
      "                              (0, time_duration), \n",
      "                              (0, time_duration), \n",
      "                              (0, time_duration), \n",
      "                              (0, time_duration), \n",
      "                              (0, time_duration)])\n",
      "result"
     ],
     "language": "python",
     "metadata": {},
     "outputs": [
      {
       "output_type": "stream",
       "stream": "stdout",
       "text": [
        "Optimization terminated successfully.    (Exit mode 0)\n",
        "            Current function value: 0.380681818182\n",
        "            Iterations: 2\n",
        "            Function evaluations: 18\n",
        "            Gradient evaluations: 2\n"
       ]
      },
      {
       "output_type": "pyout",
       "prompt_number": 7,
       "text": [
        "array([ 0.76840432,  1.97847653,  2.99833213,  3.99992058,  5.        ,\n",
        "        6.        ,  7.        ])"
       ]
      }
     ],
     "prompt_number": 7
    },
    {
     "cell_type": "code",
     "collapsed": false,
     "input": [
      "result"
     ],
     "language": "python",
     "metadata": {},
     "outputs": [
      {
       "output_type": "pyout",
       "prompt_number": 8,
       "text": [
        "array([ 0.76840432,  1.97847653,  2.99833213,  3.99992058,  5.        ,\n",
        "        6.        ,  7.        ])"
       ]
      }
     ],
     "prompt_number": 8
    },
    {
     "cell_type": "code",
     "collapsed": false,
     "input": [
      "a = get_window_size(np.array([1,2 ,3, 4, 5,6, 7]), 0, magnitude)\n",
      "a"
     ],
     "language": "python",
     "metadata": {},
     "outputs": [
      {
       "output_type": "pyout",
       "prompt_number": 9,
       "text": [
        "array([ 1.,  2.,  1., ...,  1.,  1.,  1.])"
       ]
      }
     ],
     "prompt_number": 9
    },
    {
     "cell_type": "code",
     "collapsed": false,
     "input": [
      "a = get_error_rate(np.array([1,2 ,3, 4, 5,6, 7]), 0, magnitude)\n",
      "a"
     ],
     "language": "python",
     "metadata": {},
     "outputs": [
      {
       "output_type": "pyout",
       "prompt_number": 10,
       "text": [
        "0.34545454545454546"
       ]
      }
     ],
     "prompt_number": 10
    },
    {
     "cell_type": "code",
     "collapsed": false,
     "input": [
      "a = get_tau(np.array([1,2 ,3, 4, 5,6, 7]), 0, magnitude)\n",
      "a"
     ],
     "language": "python",
     "metadata": {},
     "outputs": [
      {
       "output_type": "pyout",
       "prompt_number": 11,
       "text": [
        "-0.04918748887496055"
       ]
      }
     ],
     "prompt_number": 11
    }
   ],
   "metadata": {}
  }
 ]
}