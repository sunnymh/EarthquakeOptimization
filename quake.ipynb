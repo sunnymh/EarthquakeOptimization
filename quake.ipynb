{
 "metadata": {
  "name": "quake"
 },
 "nbformat": 3,
 "nbformat_minor": 0,
 "worksheets": [
  {
   "cells": [
    {
     "cell_type": "code",
     "collapsed": false,
     "input": [
      "from pandas import *\n",
      "from scipy.optimize import fmin_slsqp\n",
      "import numpy as np"
     ],
     "language": "python",
     "metadata": {},
     "outputs": [],
     "prompt_number": 1
    },
    {
     "cell_type": "code",
     "collapsed": false,
     "input": [
      "# Setting user input\n",
      "MIN_MAGNITUDE = 3\n",
      "MAX_MAGNITUDE = float(\"inf\")\n",
      "bins = np.array([4, 5, 6, 7, 8, 9]) # for the magnitude of earthquake\n",
      "upper_bound = 0.3 # for the optimization constraint: upper_bound - tau >= 0"
     ],
     "language": "python",
     "metadata": {},
     "outputs": [],
     "prompt_number": 2
    },
    {
     "cell_type": "code",
     "collapsed": false,
     "input": [
      "# Getting the data\n",
      "data = read_csv('DataFrame.csv')\n",
      "data = data[(data.magnitude > MIN_MAGNITUDE) & (data.magnitude < MAX_MAGNITUDE)]\n",
      "magnitude = np.array(data.magnitude)\n",
      "time = np.array(data.time)\n",
      "time_duration = time[-1] - time[1]\n",
      "number_of_points = len(time)"
     ],
     "language": "python",
     "metadata": {},
     "outputs": [],
     "prompt_number": 3
    },
    {
     "cell_type": "code",
     "collapsed": false,
     "input": [
      "# Function to get the window_size given alarm length for each given bin.\n",
      "# bins: vector of magnitudes\n",
      "# alarm_length: the alarm length for magnitude < bins[0], bins[0] < magnitude < bins[1], ..., magnitude > bins[0] \n",
      "# len(alarm_length) = len(bins) + 1\n",
      "# magnitude: a pandas data frame of magnitude\n",
      "def get_window_size(alarm_length, bins, magnitude):\n",
      "    if len(alarm_length) != len(bins)+1:\n",
      "        raise Exception(\"alarm_length and bins length does not match\")\n",
      "    window_size = np.zeros(len(magnitude))\n",
      "    left_bound = np.append(-float(\"inf\"), bins)\n",
      "    right_bound = np.append(bins, float(\"inf\"))\n",
      "    for i in range(0, len(alarm_length)):\n",
      "        window_size[(magnitude > left_bound[i]) & (magnitude <= right_bound[i])] = alarm_length[i]\n",
      "    return window_size"
     ],
     "language": "python",
     "metadata": {},
     "outputs": [],
     "prompt_number": 4
    },
    {
     "cell_type": "code",
     "collapsed": false,
     "input": [
      "# Function to get the error rate for given alarm_length, bins, magnitude, and time.\n",
      "def get_error_rate(alarm_length, bins = bins, magnitude = magnitude, time = time):\n",
      "    window_size = get_window_size(alarm_length, bins, magnitude)\n",
      "    \n",
      "    # Get information about the input\n",
      "    size = len(time)\n",
      "    right_alarm = time + window_size\n",
      "    right_alarm[right_alarm>max(time)] = max(time) # time won't go beyond the last earthquake\n",
      "    \n",
      "    # Initialize variables\n",
      "    right_max_so_far = 0\n",
      "    predicted = np.zeros(size)\n",
      "\n",
      "    # Get actual alarms for each earthquake\n",
      "    for i in range(0, size):\n",
      "        # Case two earthquakes occurs at the same time (not likely)\n",
      "        if ((i != 0) and (time[i] == time[i-1])):\n",
      "            if (right_alarm[i] > right_max_so_far):\n",
      "                right_max_so_far = right_alarm[i]\n",
      "            predicted[i] = predicted[i-1]\n",
      "        # Case the earthquake is not predicted  \n",
      "        elif (time[i] > right_max_so_far):\n",
      "            right_max_so_far = right_alarm[i]\n",
      "        # Case the earthquake is predicted and its alarm is longer than the existing one\n",
      "        elif (right_alarm[i] > right_max_so_far):\n",
      "            right_max_so_far = right_alarm[i]\n",
      "            predicted[i] = True\n",
      "        # Case the earthquake is predicted and its alarm is shorter than the existing one\n",
      "        else:\n",
      "            predicted[i] = True\n",
      "    return 1 - float(sum(predicted)) / size"
     ],
     "language": "python",
     "metadata": {},
     "outputs": [],
     "prompt_number": 5
    },
    {
     "cell_type": "code",
     "collapsed": false,
     "input": [
      "# Function to get the error rate for given alarm_length, bins, magnitude, and time.\n",
      "# Actually returns upper_bound - tau, since the optimization function checks upper_bound - tau >= 0\n",
      "def get_tau(alarm_length, bins = bins, magnitude = magnitude, time = time, upper_bound = upper_bound):\n",
      "    window_size = get_window_size(alarm_length, bins, magnitude)\n",
      "\t\n",
      "    # Get information about the input\n",
      "    size = len(time)\n",
      "    right_alarm = time + window_size\n",
      "    right_alarm[right_alarm>max(time)] = max(time) # time won't go beyond the last earthquake\n",
      "\t\n",
      "    # Initialize variables\n",
      "    right_max_so_far = 0\n",
      "    actual_left = np.zeros(size)\n",
      "    actual_right = np.zeros(size)\n",
      "\n",
      "    # Get actual alarms for each earthquake\n",
      "    for i in range(0, size):\n",
      "        # Case two earthquakes occurs at the same time (not likely)\n",
      "        if ((i != 0) and (time[i] == time[i-1])):\n",
      "            if (right_alarm[i] > right_max_so_far):\n",
      "                actual_left[i] = right_max_so_far\n",
      "                actual_right[i] = right_max_so_far = right_alarm[i]\n",
      "        # Case the earthquake is not predicted\n",
      "        elif (time[i] > right_max_so_far):\n",
      "            actual_left[i] = time[i]\n",
      "            actual_right[i] = right_max_so_far = right_alarm[i]\n",
      "        # Case the earthquake is predicted and its alarm is longer than the existing one\n",
      "        elif (right_alarm[i] > right_max_so_far):\n",
      "            actual_left[i] = right_max_so_far\n",
      "            actual_right[i] = right_max_so_far = right_alarm[i]\n",
      "    return upper_bound - float((sum(actual_right) - sum(actual_left)))/(max(time) - min(time))"
     ],
     "language": "python",
     "metadata": {},
     "outputs": [],
     "prompt_number": 6
    },
    {
     "cell_type": "code",
     "collapsed": false,
     "input": [
      "result = fmin_slsqp(get_error_rate,\n",
      "                    np.array([1, 2, 3, 4, 5, 6, 7]), \n",
      "                    ieqcons= np.array([get_tau,]), \n",
      "                    bounds = [(0, time_duration),\n",
      "                              (0, time_duration), \n",
      "                              (0, time_duration), \n",
      "                              (0, time_duration), \n",
      "                              (0, time_duration), \n",
      "                              (0, time_duration), \n",
      "                              (0, time_duration)],\n",
      "                    iprint = 2, full_output = True)\n",
      "result"
     ],
     "language": "python",
     "metadata": {},
     "outputs": [
      {
       "output_type": "stream",
       "stream": "stdout",
       "text": [
        "  NIT    FC           OBJFUN            GNORM\n",
        "    1     9     3.454545E-01     0.000000E+00"
       ]
      },
      {
       "output_type": "stream",
       "stream": "stdout",
       "text": [
        "\n",
        "    2    18     3.806818E-01     0.000000E+00"
       ]
      },
      {
       "output_type": "stream",
       "stream": "stdout",
       "text": [
        "\n",
        "Optimization terminated successfully.    (Exit mode 0)\n",
        "            Current function value: 0.380681818182\n",
        "            Iterations: 2\n",
        "            Function evaluations: 18\n",
        "            Gradient evaluations: 2\n"
       ]
      },
      {
       "output_type": "pyout",
       "prompt_number": 7,
       "text": [
        "(array([ 0.76840432,  1.97847653,  2.99833213,  3.99992058,  5.        ,\n",
        "        6.        ,  7.        ]),\n",
        " 0.38068181818181823,\n",
        " 2,\n",
        " 0,\n",
        " 'Optimization terminated successfully.')"
       ]
      }
     ],
     "prompt_number": 7
    },
    {
     "cell_type": "code",
     "collapsed": false,
     "input": [
      "time_duration / number_of_points"
     ],
     "language": "python",
     "metadata": {},
     "outputs": [
      {
       "output_type": "pyout",
       "prompt_number": 8,
       "text": [
        "1.498658097680674"
       ]
      }
     ],
     "prompt_number": 8
    },
    {
     "cell_type": "heading",
     "level": 1,
     "metadata": {},
     "source": [
      "some testcases"
     ]
    },
    {
     "cell_type": "code",
     "collapsed": false,
     "input": [
      "a = get_window_size(np.array([1,2, 3, 4, 5, 6, 7]), bins, magnitude)\n",
      "a"
     ],
     "language": "python",
     "metadata": {},
     "outputs": [
      {
       "output_type": "pyout",
       "prompt_number": 9,
       "text": [
        "array([ 1.,  2.,  1., ...,  1.,  1.,  1.])"
       ]
      }
     ],
     "prompt_number": 9
    },
    {
     "cell_type": "code",
     "collapsed": false,
     "input": [
      "a = get_error_rate(np.array([1,2 ,3, 4, 5,6, 7]), bins, magnitude)\n",
      "a"
     ],
     "language": "python",
     "metadata": {},
     "outputs": [
      {
       "output_type": "pyout",
       "prompt_number": 10,
       "text": [
        "0.34545454545454546"
       ]
      }
     ],
     "prompt_number": 10
    },
    {
     "cell_type": "code",
     "collapsed": false,
     "input": [
      "a = get_tau(np.array([1,2 ,3, 4, 5,6, 7]), bins, magnitude)\n",
      "a"
     ],
     "language": "python",
     "metadata": {},
     "outputs": [
      {
       "output_type": "pyout",
       "prompt_number": 11,
       "text": [
        "-0.04918748887496055"
       ]
      }
     ],
     "prompt_number": 11
    },
    {
     "cell_type": "code",
     "collapsed": false,
     "input": [],
     "language": "python",
     "metadata": {},
     "outputs": [],
     "prompt_number": 11
    }
   ],
   "metadata": {}
  }
 ]
}