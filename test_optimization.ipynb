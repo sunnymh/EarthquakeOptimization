{
 "metadata": {
  "name": "test_optimization"
 },
 "nbformat": 3,
 "nbformat_minor": 0,
 "worksheets": [
  {
   "cells": [
    {
     "cell_type": "code",
     "collapsed": false,
     "input": [
      "from pandas import *\n",
      "from scipy.optimize import fmin_slsqp\n",
      "from numpy import array"
     ],
     "language": "python",
     "metadata": {},
     "outputs": [],
     "prompt_number": 2
    },
    {
     "cell_type": "code",
     "collapsed": false,
     "input": [
      "# example from http://scipy-lectures.github.io/advanced/mathematical_optimization/#special-case-non-linear-least-squares\n",
      "def f(x):\n",
      "    return np.sqrt((x[0] - 3)**2 + (x[1] - 2)**2)\n",
      "\n",
      "def constraint(x):\n",
      "    return np.atleast_1d(1.5 - np.sum(np.abs(x)))\n",
      "\n",
      "result = fmin_slsqp(f, np.array([0, 0]), ieqcons=[constraint, ])"
     ],
     "language": "python",
     "metadata": {},
     "outputs": [
      {
       "output_type": "stream",
       "stream": "stdout",
       "text": [
        "Optimization terminated successfully.    (Exit mode 0)\n",
        "            Current function value: 2.47487373504\n",
        "            Iterations: 5\n",
        "            Function evaluations: 20\n",
        "            Gradient evaluations: 5\n"
       ]
      }
     ],
     "prompt_number": 17
    },
    {
     "cell_type": "code",
     "collapsed": false,
     "input": [
      "result"
     ],
     "language": "python",
     "metadata": {},
     "outputs": [
      {
       "output_type": "pyout",
       "prompt_number": 18,
       "text": [
        "array([ 1.25004696,  0.24995304])"
       ]
      }
     ],
     "prompt_number": 18
    },
    {
     "cell_type": "code",
     "collapsed": false,
     "input": [
      "# local maximum for global maximum?\n",
      "def f(x):\n",
      "    if (x < 5):\n",
      "        return np.abs(x[0] - 3)\n",
      "    else:\n",
      "        return np.abs(x[0] - 8) - 1\n",
      "\n",
      "def constraint(x):\n",
      "    return (x - 2)\n",
      "\n",
      "result = fmin_slsqp(f, np.array([0]), ieqcons=[constraint])\n"
     ],
     "language": "python",
     "metadata": {},
     "outputs": [
      {
       "output_type": "stream",
       "stream": "stdout",
       "text": [
        "Optimization terminated successfully.    (Exit mode 0)\n",
        "            Current function value: -0.999999664561\n",
        "            Iterations: 7\n",
        "            Function evaluations: 34\n",
        "            Gradient evaluations: 7\n"
       ]
      }
     ],
     "prompt_number": 19
    },
    {
     "cell_type": "code",
     "collapsed": false,
     "input": [
      "result"
     ],
     "language": "python",
     "metadata": {},
     "outputs": [
      {
       "output_type": "pyout",
       "prompt_number": 20,
       "text": [
        "array([ 8.00000034])"
       ]
      }
     ],
     "prompt_number": 20
    },
    {
     "cell_type": "code",
     "collapsed": false,
     "input": [
      "def f(x):\n",
      "    if (x < 1):\n",
      "        return 5\n",
      "    else:\n",
      "        return 3\n",
      "\n",
      "def constraint(x):\n",
      "    return (2-x)\n",
      "\n",
      "result = fmin_slsqp(f, np.array([0]), ieqcons=[constraint])"
     ],
     "language": "python",
     "metadata": {},
     "outputs": [
      {
       "output_type": "stream",
       "stream": "stdout",
       "text": [
        "Optimization terminated successfully.    (Exit mode 0)\n",
        "            Current function value: 5\n",
        "            Iterations: 1\n",
        "            Function evaluations: 3\n",
        "            Gradient evaluations: 1\n"
       ]
      }
     ],
     "prompt_number": 11
    },
    {
     "cell_type": "code",
     "collapsed": false,
     "input": [
      "result\n"
     ],
     "language": "python",
     "metadata": {},
     "outputs": [
      {
       "output_type": "pyout",
       "prompt_number": 12,
       "text": [
        "array([ 0.])"
       ]
      }
     ],
     "prompt_number": 12
    }
   ],
   "metadata": {}
  }
 ]
}